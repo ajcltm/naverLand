{
 "cells": [
  {
   "cell_type": "code",
   "execution_count": 1,
   "metadata": {},
   "outputs": [],
   "source": [
    "import pandas as pd\n",
    "\n",
    "import naverLand"
   ]
  },
  {
   "cell_type": "code",
   "execution_count": 3,
   "metadata": {},
   "outputs": [
    {
     "name": "stdout",
     "output_type": "stream",
     "text": [
      "====================================================================================================\n",
      "article info :\n",
      " {'articleDetail': {'articleNo': '2200337131', 'articleName': '삼두 1동', 'articleSubName': '', 'cpId': 'industry', 'cortarNo': '1156013200', 'hscpNo': '1215', 'ptpNo': '3', 'ptpName': '59', 'tradeBuildingTypeCode': 'APT', 'exposeStartYMD': '20220104', 'exposeEndYMD': '20220203', 'buildNo': '1', 'articleConfirmYMD': '20220104', 'tradeCompleteYN': 'N', 'aptName': '삼두', 'aptHeatMethodTypeName': '개별난방', 'aptHeatFuelTypeName': '도시가스', 'aptParkingCount': '0', 'aptParkingCountPerHousehold': '0', 'aptHouseholdCount': '160', 'aptConstructionCompanyName': '삼두실업', 'aptUseApproveYmd': '19871212', 'isaleDealRestrictionCode': 'N', 'totalDongCount': 1, 'articleStatusCode': 'R0', 'articleTypeCode': 'A01', 'realestateTypeCode': 'APT', 'realestateTypeName': '아파트', 'tradeTypeCode': 'A1', 'tradeTypeName': '매매', 'verificationTypeCode': 'OWNER', 'verificationTypeName': '집주인', 'applyYN': 'N', 'directTradeYN': 'N', 'mapLocationIndicationYn': 'Y', 'latitude': '37.514296', 'longitude': '126.923792', 'cityNo': '1100000000', 'cityName': '서울시', 'divisionName': '영등포구', 'sectionName': '신길동', 'householdCountByPtp': '80', 'realtorId': 'tmdahr14', 'walkingTimeToNearSubway': 5, 'grandPlanList': [{'imageId': '1215@20180314145309563833', 'imageOrder': 1, 'imageSrc': '/20180314_22/hscp_img_15210067894821vmot_JPEG/photoinfra_1521006789201.jpg', 'imageType': '3'}], 'maintenanceCost': {'costsByDate': [{'basisYearMonth': '202110', 'totalPrice': '95183', 'commonPrice': '70878', 'heatPrice': '0', 'etcPrice': '19543'}, {'basisYearMonth': '202109', 'totalPrice': '98137', 'commonPrice': '71779', 'heatPrice': '0', 'etcPrice': '21596'}, {'basisYearMonth': '202108', 'totalPrice': '116023', 'commonPrice': '75710', 'heatPrice': '0', 'etcPrice': '35551'}, {'basisYearMonth': '202107', 'totalPrice': '99457', 'commonPrice': '73375', 'heatPrice': '0', 'etcPrice': '21321'}, {'basisYearMonth': '202106', 'totalPrice': '91411', 'commonPrice': '70931', 'heatPrice': '0', 'etcPrice': '15718'}, {'basisYearMonth': '202105', 'totalPrice': '88092', 'commonPrice': '70350', 'heatPrice': '0', 'etcPrice': '12980'}, {'basisYearMonth': '202104', 'totalPrice': '91230', 'commonPrice': '70277', 'heatPrice': '0', 'etcPrice': '16191'}, {'basisYearMonth': '202103', 'totalPrice': '89918', 'commonPrice': '69879', 'heatPrice': '0', 'etcPrice': '15277'}, {'basisYearMonth': '202102', 'totalPrice': '94152', 'commonPrice': '71854', 'heatPrice': '0', 'etcPrice': '17537'}, {'basisYearMonth': '202101', 'totalPrice': '96897', 'commonPrice': '72652', 'heatPrice': '0', 'etcPrice': '19483'}, {'basisYearMonth': '202012', 'totalPrice': '87411', 'commonPrice': '69700', 'heatPrice': '0', 'etcPrice': '15806'}], 'averageTotalPrice': '95265', 'summerTotalPrice': '102297', 'winterTotalPrice': '92820', 'averageCommonPrice': '71580', 'summerCommonPrice': '73339', 'winterCommonPrice': '71402', 'averageHeatPrice': '0', 'summerHeatPrice': '0', 'winterHeatPrice': '0', 'averageEtcPrice': '19182', 'summerEtcPrice': '24197', 'winterEtcPrice': '17609'}, 'detailAddress': '', 'exposureAddress': '서울시 영등포구 신길동', 'roomCount': '2', 'bathroomCount': '1', 'moveInTypeCode': 'MV001', 'moveInTypeName': '즉시입주', 'moveInPossibleYmd': '20230427', 'monthlyManagementCost': 80000, 'originBuildingName': '1', 'buildingName': '1동', 'articleFeatureDescription': '전세안고 매매, 여의도 인접 더블역세권', 'detailDescription': '더블역세권 - 대방역 1호선, 신림선(22년 개통예정)\\r\\n\\r\\n여의도 도보 가능한 위치', 'parkingCount': 0, 'parkingPossibleYN': 'N', 'duplexYN': 'N', 'floorLayerName': '단층', 'hasBuildingUnitInfo': False, 'tagList': ['25년이상', '역세권', '소형평수', '방두개'], 'isInterest': False, 'isFalseHoodDeclared': False, 'isBlockFalseHood': False, 'detailAddressYn': 'N', 'isComplex': False, 'isOwnerTradeCompleted': False}, 'articleAddition': {'articleNo': '2200337131', 'articleName': '삼두', 'articleStatus': 'R0', 'realEstateTypeCode': 'APT', 'realEstateTypeName': '아파트', 'articleRealEstateTypeCode': 'A01', 'articleRealEstateTypeName': '아파트', 'tradeTypeCode': 'A1', 'tradeTypeName': '매매', 'verificationTypeCode': 'OWNER', 'floorInfo': '8/10', 'priceChangeState': 'SAME', 'isPriceModification': False, 'dealOrWarrantPrc': '6억', 'areaName': '59', 'area1': 59, 'area2': 43, 'direction': '동향', 'articleConfirmYmd': '20220104', 'siteImageCount': 0, 'articleFeatureDesc': '전세안고 매매, 여의도 인접 더블역세권', 'tagList': ['25년이상', '역세권', '소형평수', '방두개'], 'buildingName': '1동', 'sameAddrCnt': 4, 'sameAddrDirectCnt': 0, 'sameAddrMaxPrc': '6억', 'sameAddrMinPrc': '6억', 'cpid': 'industry', 'cpName': '산업부동산', 'cpPcArticleUrl': 'http://land.daara.co.kr/n_link.php?UID=2200337131', 'cpPcArticleBridgeUrl': '', 'cpPcArticleLinkUseAtArticleTitleYn': False, 'cpPcArticleLinkUseAtCpNameYn': True, 'cpMobileArticleUrl': 'http://land.daara.co.kr/n_link.php?UID=2200337131', 'cpMobileArticleLinkUseAtArticleTitleYn': False, 'cpMobileArticleLinkUseAtCpNameYn': True, 'latitude': '37.514296', 'longitude': '126.923792', 'isLocationShow': False, 'realtorName': '멘토공인중개사사무소', 'realtorId': 'tmdahr14', 'tradeCheckedByOwner': False, 'isDirectTrade': False, 'isInterest': False, 'isComplex': True}, 'articleFacility': {'directionTypeCode': 'EE', 'directionTypeName': '동향', 'directionBaseTypeCode': 'LVRM', 'directionBaseTypeName': '거실 기준', 'entranceTypeCode': '20', 'entranceTypeName': '복도식', 'floorAreaRatio': '-', 'buildingCoverageRatio': '-'}, 'articleFloor': {'totalFloorCount': '10', 'undergroundFloorCount': '-', 'uppergroundFloorCount': '-', 'floorTypeCode': '00', 'floorInputMethodCode': '10', 'correspondingFloorCount': '8'}, 'articleNoneHscp': {}, 'articlePrice': {'rentPrice': 0, 'dealPrice': 60000, 'warrantPrice': 0, 'allWarrantPrice': 22000, 'financeTypeCode': '00', 'financePrice': 0, 'premiumPrice': 0, 'isalePrice': 0, 'allRentPrice': 0, 'priceBySpace': 3315.0, 'bondPrice': 0, 'middlePayment': 0}, 'articleRealtor': {'realtorId': 'tmdahr14', 'realtorName': '멘토공인중개사사무소', 'representativeName': '이승목', 'address': '서울 영등포구 신길동 1367-1 라동 1호', 'establishRegistrationNo': '11560201900259', 'dealCount': 6, 'leaseCount': 6, 'rentCount': 13, 'shortTermRentCount': 0, 'tradeCompleteCount': 0, 'ownerArticleCount': 23, 'badgeType': 'noBadge', 'latitude': 37.51367, 'longitude': 126.925816, 'representativeTelNo': '010-2806-4985', 'cellPhoneNo': '010-2806-4985', 'isRepresentativeTelExposure': True, 'cortarNo': '1156013200', 'exposeTelTypeCode': 'CPH', 'homePageUrl': 'https://blog.naver.com/hansanha91'}, 'articleSpace': {'supplySpace': 59.85, 'exclusiveSpace': 43.65, 'groundSpace': 0.0, 'totalSpace': 0.0, 'buildingSpace': 0.0, 'expectSpace': 0.0, 'groundShareSpace': 0.0, 'exclusiveRate': '73'}, 'articleTax': {'acquisitionTax': 6000000, 'registTax': 0.0, 'registFee': 69.0, 'brokerFee': 2400000.0, 'maxBrokerFee': 0.4, 'eduTax': 600000, 'specialTax': 0, 'registApplyFee': 0, 'digitalRevenuStamp': 0.0, 'nationHouseBond': 0.0, 'totalPrice': 6600000}, 'articleExistTabs': ['detail', 'prices', 'buildingLandprice', 'schools'], 'articlePhotos': [], 'landPrice': {'hscpNo': '1215', 'hscpType': 'A01', 'hscpNm': '삼두', 'bildNo': '1', 'dongNm': '1', 'hoNm': '812', 'hoFloor': '0', 'lineNo': '12', 'pilotiYn': '', 'existHo': '', 'price': '295000000', 'prevPrice': '230000000', 'ptpNo': '3', 'supplyArea': '59.85', 'totalArea': '59.85', 'stdYear': 2021, 'stdYmd': 20210101, 'landPriceTax': {'propertyTotalTax': 562800, 'propertyTax': 262500, 'localEduTax': 52500, 'cityAreaTax': 247800, 'realEstateTotalTax': 0, 'decisionTax': 0, 'ruralSpecialTax': 0}}}\n"
     ]
    }
   ],
   "source": [
    "articleNo = '2200337131'\n",
    "article_1_info = naverLand.ArticleInfoProvider().get_articleInfo(articleNo)\n",
    "print('='*100)\n",
    "print(f'article info :\\n {article_1_info}')"
   ]
  }
 ],
 "metadata": {
  "interpreter": {
   "hash": "402f732f45210a8f3cf204d18ac474bcfde6f1d7d558ffc6d28a7b91f39123e2"
  },
  "kernelspec": {
   "display_name": "Python 3.8.6 64-bit ('pythonProject': venv)",
   "language": "python",
   "name": "python3"
  },
  "language_info": {
   "codemirror_mode": {
    "name": "ipython",
    "version": 3
   },
   "file_extension": ".py",
   "mimetype": "text/x-python",
   "name": "python",
   "nbconvert_exporter": "python",
   "pygments_lexer": "ipython3",
   "version": "3.7.7"
  },
  "orig_nbformat": 4
 },
 "nbformat": 4,
 "nbformat_minor": 2
}
