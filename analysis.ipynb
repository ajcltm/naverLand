{
 "cells": [],
 "metadata": {
  "interpreter": {
   "hash": "402f732f45210a8f3cf204d18ac474bcfde6f1d7d558ffc6d28a7b91f39123e2"
  },
  "kernelspec": {
   "display_name": "Python 3.8.6 64-bit ('pythonProject': venv)",
   "language": "python",
   "name": "python3"
  },
  "language_info": {
   "codemirror_mode": {
    "name": "ipython",
    "version": 3
   },
   "file_extension": ".py",
   "mimetype": "text/x-python",
   "name": "python",
   "nbconvert_exporter": "python",
   "pygments_lexer": "ipython3",
   "version": "3.8.6"
  },
  "orig_nbformat": 4
 },
 "nbformat": 4,
 "nbformat_minor": 2
}
