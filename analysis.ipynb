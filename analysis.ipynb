{
 "cells": [
  {
   "cell_type": "code",
   "execution_count": 1,
   "metadata": {},
   "outputs": [],
   "source": [
    "import pandas as pd\n",
    "\n",
    "import naverLand"
   ]
  },
  {
   "cell_type": "code",
   "execution_count": 2,
   "metadata": {},
   "outputs": [
    {
     "name": "stdout",
     "output_type": "stream",
     "text": [
      "====================================================================================================\n",
      "GuList :\n",
      " {'regionList': [{'cortarNo': '1168000000', 'centerLat': 37.517408, 'centerLon': 127.047313, 'cortarName': '강남구', 'cortarType': 'dvsn'}, {'cortarNo': '1174000000', 'centerLat': 37.530126, 'centerLon': 127.123771, 'cortarName': '강동구', 'cortarType': 'dvsn'}, {'cortarNo': '1130500000', 'centerLat': 37.63974, 'centerLon': 127.025488, 'cortarName': '강북구', 'cortarType': 'dvsn'}, {'cortarNo': '1150000000', 'centerLat': 37.550985, 'centerLon': 126.849534, 'cortarName': '강서구', 'cortarType': 'dvsn'}, {'cortarNo': '1162000000', 'centerLat': 37.481021, 'centerLon': 126.951601, 'cortarName': '관악구', 'cortarType': 'dvsn'}, {'cortarNo': '1121500000', 'centerLat': 37.538617, 'centerLon': 127.082375, 'cortarName': '광진구', 'cortarType': 'dvsn'}, {'cortarNo': '1153000000', 'centerLat': 37.49551, 'centerLon': 126.887532, 'cortarName': '구로구', 'cortarType': 'dvsn'}, {'cortarNo': '1154500000', 'centerLat': 37.45196, 'centerLon': 126.902075, 'cortarName': '금천구', 'cortarType': 'dvsn'}, {'cortarNo': '1135000000', 'centerLat': 37.654286, 'centerLon': 127.056411, 'cortarName': '노원구', 'cortarType': 'dvsn'}, {'cortarNo': '1132000000', 'centerLat': 37.668768, 'centerLon': 127.047163, 'cortarName': '도봉구', 'cortarType': 'dvsn'}, {'cortarNo': '1123000000', 'centerLat': 37.574493, 'centerLon': 127.039765, 'cortarName': '동대문구', 'cortarType': 'dvsn'}, {'cortarNo': '1159000000', 'centerLat': 37.51245, 'centerLon': 126.9395, 'cortarName': '동작구', 'cortarType': 'dvsn'}, {'cortarNo': '1144000000', 'centerLat': 37.563517, 'centerLon': 126.9084, 'cortarName': '마포구', 'cortarType': 'dvsn'}, {'cortarNo': '1141000000', 'centerLat': 37.579225, 'centerLon': 126.9368, 'cortarName': '서대문구', 'cortarType': 'dvsn'}, {'cortarNo': '1165000000', 'centerLat': 37.483564, 'centerLon': 127.032594, 'cortarName': '서초구', 'cortarType': 'dvsn'}, {'cortarNo': '1120000000', 'centerLat': 37.563475, 'centerLon': 127.036838, 'cortarName': '성동구', 'cortarType': 'dvsn'}, {'cortarNo': '1129000000', 'centerLat': 37.5874, 'centerLon': 127.020729, 'cortarName': '성북구', 'cortarType': 'dvsn'}, {'cortarNo': '1171000000', 'centerLat': 37.514592, 'centerLon': 127.105863, 'cortarName': '송파구', 'cortarType': 'dvsn'}, {'cortarNo': '1147000000', 'centerLat': 37.517007, 'centerLon': 126.866546, 'cortarName': '양천구', 'cortarType': 'dvsn'}, {'cortarNo': '1156000000', 'centerLat': 37.526367, 'centerLon': 126.896213, 'cortarName': '영등포구', 'cortarType': 'dvsn'}, {'cortarNo': '1117000000', 'centerLat': 37.538825, 'centerLon': 126.96535, 'cortarName': '용산구', 'cortarType': 'dvsn'}, {'cortarNo': '1138000000', 'centerLat': 37.60278, 'centerLon': 126.929163, 'cortarName': '은평구', 'cortarType': 'dvsn'}, {'cortarNo': '1111000000', 'centerLat': 37.573025, 'centerLon': 126.979638, 'cortarName': '종로구', 'cortarType': 'dvsn'}, {'cortarNo': '1114000000', 'centerLat': 37.563842, 'centerLon': 126.9976, 'cortarName': '중구', 'cortarType': 'dvsn'}, {'cortarNo': '1126000000', 'centerLat': 37.606324, 'centerLon': 127.092584, 'cortarName': '중랑구', 'cortarType': 'dvsn'}]}\n",
      "====================================================================================================\n",
      "dongList :\n",
      " {'regionList': [{'cortarNo': '1168010300', 'centerLat': 37.482968, 'centerLon': 127.0634, 'cortarName': '개포동', 'cortarType': 'sec'}, {'cortarNo': '1168010800', 'centerLat': 37.513583, 'centerLon': 127.031375, 'cortarName': '논현동', 'cortarType': 'sec'}, {'cortarNo': '1168010600', 'centerLat': 37.49911, 'centerLon': 127.065463, 'cortarName': '대치동', 'cortarType': 'sec'}, {'cortarNo': '1168011800', 'centerLat': 37.488143, 'centerLon': 127.04505, 'cortarName': '도곡동', 'cortarType': 'sec'}, {'cortarNo': '1168010500', 'centerLat': 37.514792, 'centerLon': 127.055387, 'cortarName': '삼성동', 'cortarType': 'sec'}, {'cortarNo': '1168011100', 'centerLat': 37.46436, 'centerLon': 127.1046, 'cortarName': '세곡동', 'cortarType': 'sec'}, {'cortarNo': '1168011500', 'centerLat': 37.488856, 'centerLon': 127.104886, 'cortarName': '수서동', 'cortarType': 'sec'}, {'cortarNo': '1168010700', 'centerLat': 37.524142, 'centerLon': 127.0229, 'cortarName': '신사동', 'cortarType': 'sec'}, {'cortarNo': '1168011000', 'centerLat': 37.5291, 'centerLon': 127.0236, 'cortarName': '압구정동', 'cortarType': 'sec'}, {'cortarNo': '1168010100', 'centerLat': 37.499776, 'centerLon': 127.03895, 'cortarName': '역삼동', 'cortarType': 'sec'}, {'cortarNo': '1168011300', 'centerLat': 37.4717, 'centerLon': 127.1114, 'cortarName': '율현동', 'cortarType': 'sec'}, {'cortarNo': '1168011400', 'centerLat': 37.487485, 'centerLon': 127.081638, 'cortarName': '일원동', 'cortarType': 'sec'}, {'cortarNo': '1168011200', 'centerLat': 37.4766, 'centerLon': 127.101, 'cortarName': '자곡동', 'cortarType': 'sec'}, {'cortarNo': '1168010400', 'centerLat': 37.525492, 'centerLon': 127.05235, 'cortarName': '청담동', 'cortarType': 'sec'}]}\n",
      "====================================================================================================\n",
      "complexList :\n",
      " {'complexList': [{'complexNo': '8928', 'complexName': 'LG개포자이', 'cortarNo': '1168010300', 'realEstateTypeCode': 'APT', 'realEstateTypeName': '아파트', 'detailAddress': '12-2', 'latitude': 37.496437, 'longitude': 127.077115, 'totalHouseholdCount': 212, 'totalBuildingCount': 4, 'highFloor': 22, 'lowFloor': 20, 'useApproveYmd': '20040617', 'dealCount': 6, 'leaseCount': 6, 'rentCount': 1, 'shortTermRentCount': 0, 'cortarAddress': '서울시 강남구 개포동'}, {'complexNo': '119219', 'complexName': '개포래미안포레스트', 'cortarNo': '1168010300', 'realEstateTypeCode': 'APT', 'realEstateTypeName': '아파트', 'detailAddress': '1282', 'latitude': 37.478448, 'longitude': 127.054031, 'totalHouseholdCount': 2296, 'totalBuildingCount': 31, 'highFloor': 35, 'lowFloor': 7, 'useApproveYmd': '20200928', 'dealCount': 74, 'leaseCount': 103, 'rentCount': 103, 'shortTermRentCount': 1, 'cortarAddress': '서울시 강남구 개포동'}, {'complexNo': '140057', 'complexName': '개포비버리하임(도시형)', 'cortarNo': '1168010300', 'realEstateTypeCode': 'APT', 'realEstateTypeName': '아파트', 'detailAddress': '1193-5', 'latitude': 37.474623, 'longitude': 127.049465, 'totalHouseholdCount': 29, 'totalBuildingCount': 2, 'highFloor': 6, 'lowFloor': 6, 'useApproveYmd': '20181112', 'dealCount': 0, 'leaseCount': 0, 'rentCount': 0, 'shortTermRentCount': 0, 'cortarAddress': '서울시 강남구 개포동'}, {'complexNo': '107513', 'complexName': '개포상지리츠빌', 'cortarNo': '1168010300', 'realEstateTypeCode': 'APT', 'realEstateTypeName': '아파트', 'detailAddress': '176-1', 'latitude': 37.487257, 'longitude': 127.060199, 'totalHouseholdCount': 18, 'totalBuildingCount': 1, 'highFloor': 10, 'lowFloor': 10, 'useApproveYmd': '20030328', 'dealCount': 2, 'leaseCount': 0, 'rentCount': 1, 'shortTermRentCount': 0, 'cortarAddress': '서울시 강남구 개포동'}, {'complexNo': '103385', 'complexName': '개포현대(200동)', 'cortarNo': '1168010300', 'realEstateTypeCode': 'APT', 'realEstateTypeName': '아파트', 'detailAddress': '655-1', 'latitude': 37.481772, 'longitude': 127.052579, 'totalHouseholdCount': 72, 'totalBuildingCount': 1, 'highFloor': 9, 'lowFloor': 9, 'useApproveYmd': '19860724', 'dealCount': 0, 'leaseCount': 0, 'rentCount': 1, 'shortTermRentCount': 0, 'cortarAddress': '서울시 강남구 개포동'}, {'complexNo': '10329', 'complexName': '개포현대2차(220동)', 'cortarNo': '1168010300', 'realEstateTypeCode': 'APT', 'realEstateTypeName': '아파트', 'detailAddress': '655-2', 'latitude': 37.481215, 'longitude': 127.052733, 'totalHouseholdCount': 54, 'totalBuildingCount': 1, 'highFloor': 9, 'lowFloor': 9, 'useApproveYmd': '19880902', 'dealCount': 0, 'leaseCount': 5, 'rentCount': 0, 'shortTermRentCount': 0, 'cortarAddress': '서울시 강남구 개포동'}, {'complexNo': '8967', 'complexName': '개포현대5차', 'cortarNo': '1168010300', 'realEstateTypeCode': 'APT', 'realEstateTypeName': '아파트', 'detailAddress': '172-3', 'latitude': 37.484319, 'longitude': 127.060077, 'totalHouseholdCount': 18, 'totalBuildingCount': 1, 'highFloor': 9, 'lowFloor': 9, 'useApproveYmd': '19940222', 'dealCount': 0, 'leaseCount': 1, 'rentCount': 0, 'shortTermRentCount': 0, 'cortarAddress': '서울시 강남구 개포동'}, {'complexNo': '10863', 'complexName': '개포현대6차', 'cortarNo': '1168010300', 'realEstateTypeCode': 'APT', 'realEstateTypeName': '아파트', 'detailAddress': '1242-2', 'latitude': 37.479759, 'longitude': 127.046004, 'totalHouseholdCount': 19, 'totalBuildingCount': 1, 'highFloor': 8, 'lowFloor': 4, 'useApproveYmd': '19931217', 'dealCount': 1, 'leaseCount': 0, 'rentCount': 0, 'shortTermRentCount': 0, 'cortarAddress': '서울시 강남구 개포동'}, {'complexNo': '28', 'complexName': '경남', 'cortarNo': '1168010300', 'realEstateTypeCode': 'APT', 'realEstateTypeName': '아파트', 'detailAddress': '649', 'latitude': 37.484623, 'longitude': 127.054115, 'totalHouseholdCount': 678, 'totalBuildingCount': 9, 'highFloor': 15, 'lowFloor': 12, 'useApproveYmd': '19840308', 'dealCount': 18, 'leaseCount': 99, 'rentCount': 21, 'shortTermRentCount': 0, 'cortarAddress': '서울시 강남구 개포동'}, {'complexNo': '127927', 'complexName': '그루', 'cortarNo': '1168010300', 'realEstateTypeCode': 'APT', 'realEstateTypeName': '아파트', 'detailAddress': '1229-6', 'latitude': 37.47713, 'longitude': 127.045622, 'totalHouseholdCount': 20, 'totalBuildingCount': 1, 'highFloor': 8, 'lowFloor': 8, 'useApproveYmd': '20190801', 'dealCount': 0, 'leaseCount': 0, 'rentCount': 0, 'shortTermRentCount': 0, 'cortarAddress': '서울시 강남구 개포동'}, {'complexNo': '118254', 'complexName': '뉴현대파크빌', 'cortarNo': '1168010300', 'realEstateTypeCode': 'APT', 'realEstateTypeName': '아파트', 'detailAddress': '1164-30', 'latitude': 37.474809, 'longitude': 127.054818, 'totalHouseholdCount': 10, 'totalBuildingCount': 1, 'highFloor': 5, 'lowFloor': 5, 'useApproveYmd': '20010516', 'dealCount': 0, 'leaseCount': 0, 'rentCount': 1, 'shortTermRentCount': 0, 'cortarAddress': '서울시 강남구 개포동'}, {'complexNo': '419', 'complexName': '대청', 'cortarNo': '1168010300', 'realEstateTypeCode': 'APT', 'realEstateTypeName': '아파트', 'detailAddress': '12', 'latitude': 37.495077, 'longitude': 127.077121, 'totalHouseholdCount': 822, 'totalBuildingCount': 6, 'highFloor': 15, 'lowFloor': 13, 'useApproveYmd': '19921014', 'dealCount': 19, 'leaseCount': 35, 'rentCount': 14, 'shortTermRentCount': 1, 'cortarAddress': '서울시 강남구 개포동'}, {'complexNo': '483', 'complexName': '대치2단지', 'cortarNo': '1168010300', 'realEstateTypeCode': 'APT', 'realEstateTypeName': '아파트', 'detailAddress': '12', 'latitude': 37.494658, 'longitude': 127.075486, 'totalHouseholdCount': 1758, 'totalBuildingCount': 11, 'highFloor': 15, 'lowFloor': 15, 'useApproveYmd': '19921014', 'dealCount': 35, 'leaseCount': 67, 'rentCount': 20, 'shortTermRentCount': 1, 'cortarAddress': '서울시 강남구 개포동'}, {'complexNo': '14947', 'complexName': '더샵그린', 'cortarNo': '1168010300', 'realEstateTypeCode': 'APT', 'realEstateTypeName': '아파트', 'detailAddress': '1167', 'latitude': 37.4733, 'longitude': 127.052369, 'totalHouseholdCount': 19, 'totalBuildingCount': 1, 'highFloor': 10, 'lowFloor': 9, 'useApproveYmd': '19960923', 'dealCount': 2, 'leaseCount': 0, 'rentCount': 0, 'shortTermRentCount': 0, 'cortarAddress': '서울시 강남구 개포동'}, {'complexNo': '881', 'complexName': '더샵트리에', 'cortarNo': '1168010300', 'realEstateTypeCode': 'APT', 'realEstateTypeName': '아파트', 'detailAddress': '651-1', 'latitude': 37.484809, 'longitude': 127.057097, 'totalHouseholdCount': 232, 'totalBuildingCount': 2, 'highFloor': 15, 'lowFloor': 12, 'useApproveYmd': '202112', 'dealCount': 32, 'leaseCount': 138, 'rentCount': 149, 'shortTermRentCount': 1, 'cortarAddress': '서울시 강남구 개포동'}, {'complexNo': '113151', 'complexName': '디에이치아너힐즈', 'cortarNo': '1168010300', 'realEstateTypeCode': 'APT', 'realEstateTypeName': '아파트', 'detailAddress': '1281', 'latitude': 37.484655, 'longitude': 127.067254, 'totalHouseholdCount': 1320, 'totalBuildingCount': 23, 'highFloor': 33, 'lowFloor': 2, 'useApproveYmd': '20190829', 'dealCount': 49, 'leaseCount': 68, 'rentCount': 90, 'shortTermRentCount': 0, 'cortarAddress': '서울시 강남구 개포동'}, {'complexNo': '112228', 'complexName': '래미안블레스티지', 'cortarNo': '1168010300', 'realEstateTypeCode': 'APT', 'realEstateTypeName': '아파트', 'detailAddress': '1280', 'latitude': 37.481058, 'longitude': 127.064178, 'totalHouseholdCount': 1957, 'totalBuildingCount': 23, 'highFloor': 35, 'lowFloor': 5, 'useApproveYmd': '20190226', 'dealCount': 76, 'leaseCount': 114, 'rentCount': 122, 'shortTermRentCount': 9, 'cortarAddress': '서울시 강남구 개포동'}, {'complexNo': '104598', 'complexName': '렉스힐', 'cortarNo': '1168010300', 'realEstateTypeCode': 'APT', 'realEstateTypeName': '아파트', 'detailAddress': '157-9', 'latitude': 37.483005, 'longitude': 127.062547, 'totalHouseholdCount': 8, 'totalBuildingCount': 1, 'highFloor': 7, 'lowFloor': 7, 'useApproveYmd': '20111116', 'dealCount': 0, 'leaseCount': 0, 'rentCount': 0, 'shortTermRentCount': 0, 'cortarAddress': '서울시 강남구 개포동'}, {'complexNo': '102805', 'complexName': '리더스', 'cortarNo': '1168010300', 'realEstateTypeCode': 'APT', 'realEstateTypeName': '아파트', 'detailAddress': '1164-25', 'latitude': 37.474392, 'longitude': 127.054786, 'totalHouseholdCount': 10, 'totalBuildingCount': 1, 'highFloor': 6, 'lowFloor': 6, 'useApproveYmd': '20021226', 'dealCount': 0, 'leaseCount': 0, 'rentCount': 0, 'shortTermRentCount': 0, 'cortarAddress': '서울시 강남구 개포동'}, {'complexNo': '11078', 'complexName': '새롬', 'cortarNo': '1168010300', 'realEstateTypeCode': 'APT', 'realEstateTypeName': '아파트', 'detailAddress': '1164-14', 'latitude': 37.47326, 'longitude': 127.052901, 'totalHouseholdCount': 41, 'totalBuildingCount': 3, 'highFloor': 8, 'lowFloor': 4, 'useApproveYmd': '20000701', 'dealCount': 1, 'leaseCount': 3, 'rentCount': 1, 'shortTermRentCount': 0, 'cortarAddress': '서울시 강남구 개포동'}, {'complexNo': '16228', 'complexName': '쌍용개포', 'cortarNo': '1168010300', 'realEstateTypeCode': 'APT', 'realEstateTypeName': '아파트', 'detailAddress': '655-3', 'latitude': 37.481127, 'longitude': 127.053085, 'totalHouseholdCount': 16, 'totalBuildingCount': 1, 'highFloor': 10, 'lowFloor': 10, 'useApproveYmd': '19950331', 'dealCount': 0, 'leaseCount': 0, 'rentCount': 0, 'shortTermRentCount': 0, 'cortarAddress': '서울시 강남구 개포동'}, {'complexNo': '124917', 'complexName': '에버그린', 'cortarNo': '1168010300', 'realEstateTypeCode': 'APT', 'realEstateTypeName': '아파트', 'detailAddress': '166-4', 'latitude': 37.482932, 'longitude': 127.061271, 'totalHouseholdCount': 9, 'totalBuildingCount': 1, 'highFloor': 6, 'lowFloor': 5, 'useApproveYmd': '20030312', 'dealCount': 0, 'leaseCount': 1, 'rentCount': 0, 'shortTermRentCount': 0, 'cortarAddress': '서울시 강남구 개포동'}, {'complexNo': '667', 'complexName': '우성3차', 'cortarNo': '1168010300', 'realEstateTypeCode': 'APT', 'realEstateTypeName': '아파트', 'detailAddress': '652', 'latitude': 37.483998, 'longitude': 127.056011, 'totalHouseholdCount': 405, 'totalBuildingCount': 5, 'highFloor': 15, 'lowFloor': 15, 'useApproveYmd': '19841231', 'dealCount': 6, 'leaseCount': 50, 'rentCount': 37, 'shortTermRentCount': 0, 'cortarAddress': '서울시 강남구 개포동'}, {'complexNo': '770', 'complexName': '우성6차', 'cortarNo': '1168010300', 'realEstateTypeCode': 'APT', 'realEstateTypeName': '아파트', 'detailAddress': '658-1', 'latitude': 37.476763, 'longitude': 127.05721, 'totalHouseholdCount': 270, 'totalBuildingCount': 8, 'highFloor': 5, 'lowFloor': 5, 'useApproveYmd': '19871121', 'dealCount': 7, 'leaseCount': 12, 'rentCount': 2, 'shortTermRentCount': 0, 'cortarAddress': '서울시 강남구 개포동'}, {'complexNo': '818', 'complexName': '우성8차', 'cortarNo': '1168010300', 'realEstateTypeCode': 'APT', 'realEstateTypeName': '아파트', 'detailAddress': '179', 'latitude': 37.488147, 'longitude': 127.062246, 'totalHouseholdCount': 261, 'totalBuildingCount': 3, 'highFloor': 9, 'lowFloor': 9, 'useApproveYmd': '19870921', 'dealCount': 12, 'leaseCount': 24, 'rentCount': 7, 'shortTermRentCount': 0, 'cortarAddress': '서울시 강남구 개포동'}, {'complexNo': '102377', 'complexName': '우찬현대(101)', 'cortarNo': '1168010300', 'realEstateTypeCode': 'APT', 'realEstateTypeName': '아파트', 'detailAddress': '1260-11', 'latitude': 37.479471, 'longitude': 127.048752, 'totalHouseholdCount': 15, 'totalBuildingCount': 1, 'highFloor': 6, 'lowFloor': 6, 'useApproveYmd': '20060626', 'dealCount': 0, 'leaseCount': 0, 'rentCount': 0, 'shortTermRentCount': 0, 'cortarAddress': '서울시 강남구 개포동'}, {'complexNo': '102378', 'complexName': '우찬현대(102)', 'cortarNo': '1168010300', 'realEstateTypeCode': 'APT', 'realEstateTypeName': '아파트', 'detailAddress': '1260-4', 'latitude': 37.479518, 'longitude': 127.04908, 'totalHouseholdCount': 10, 'totalBuildingCount': 1, 'highFloor': 6, 'lowFloor': 6, 'useApproveYmd': '20060626', 'dealCount': 0, 'leaseCount': 0, 'rentCount': 0, 'shortTermRentCount': 0, 'cortarAddress': '서울시 강남구 개포동'}, {'complexNo': '102379', 'complexName': '우찬현대(103)', 'cortarNo': '1168010300', 'realEstateTypeCode': 'APT', 'realEstateTypeName': '아파트', 'detailAddress': '1260-2', 'latitude': 37.479506, 'longitude': 127.048628, 'totalHouseholdCount': 10, 'totalBuildingCount': 1, 'highFloor': 6, 'lowFloor': 6, 'useApproveYmd': '20060626', 'dealCount': 0, 'leaseCount': 0, 'rentCount': 0, 'shortTermRentCount': 0, 'cortarAddress': '서울시 강남구 개포동'}, {'complexNo': '110128', 'complexName': '포이벨리', 'cortarNo': '1168010300', 'realEstateTypeCode': 'APT', 'realEstateTypeName': '아파트', 'detailAddress': '1164-28', 'latitude': 37.47462, 'longitude': 127.055156, 'totalHouseholdCount': 10, 'totalBuildingCount': 1, 'highFloor': 6, 'lowFloor': 6, 'useApproveYmd': '20011231', 'dealCount': 0, 'leaseCount': 0, 'rentCount': 0, 'shortTermRentCount': 0, 'cortarAddress': '서울시 강남구 개포동'}, {'complexNo': '113016', 'complexName': '한림', 'cortarNo': '1168010300', 'realEstateTypeCode': 'APT', 'realEstateTypeName': '아파트', 'detailAddress': '1164-20', 'latitude': 37.473891, 'longitude': 127.054148, 'totalHouseholdCount': 12, 'totalBuildingCount': 1, 'highFloor': 7, 'lowFloor': 7, 'useApproveYmd': '20020311', 'dealCount': 0, 'leaseCount': 0, 'rentCount': 0, 'shortTermRentCount': 0, 'cortarAddress': '서울시 강남구 개포동'}, {'complexNo': '1317', 'complexName': '현대1차', 'cortarNo': '1168010300', 'realEstateTypeCode': 'APT', 'realEstateTypeName': '아파트', 'detailAddress': '653', 'latitude': 37.482427, 'longitude': 127.05447, 'totalHouseholdCount': 416, 'totalBuildingCount': 6, 'highFloor': 13, 'lowFloor': 13, 'useApproveYmd': '19840420', 'dealCount': 29, 'leaseCount': 38, 'rentCount': 13, 'shortTermRentCount': 0, 'cortarAddress': '서울시 강남구 개포동'}, {'complexNo': '1321', 'complexName': '현대2차', 'cortarNo': '1168010300', 'realEstateTypeCode': 'APT', 'realEstateTypeName': '아파트', 'detailAddress': '654', 'latitude': 37.482796, 'longitude': 127.051051, 'totalHouseholdCount': 558, 'totalBuildingCount': 13, 'highFloor': 9, 'lowFloor': 9, 'useApproveYmd': '19860131', 'dealCount': 26, 'leaseCount': 42, 'rentCount': 20, 'shortTermRentCount': 0, 'cortarAddress': '서울시 강남구 개포동'}, {'complexNo': '1327', 'complexName': '현대3차', 'cortarNo': '1168010300', 'realEstateTypeCode': 'APT', 'realEstateTypeName': '아파트', 'detailAddress': '177', 'latitude': 37.488014, 'longitude': 127.061354, 'totalHouseholdCount': 198, 'totalBuildingCount': 5, 'highFloor': 9, 'lowFloor': 9, 'useApproveYmd': '19860331', 'dealCount': 5, 'leaseCount': 2, 'rentCount': 1, 'shortTermRentCount': 0, 'cortarAddress': '서울시 강남구 개포동'}, {'complexNo': '16229', 'complexName': '현대빌라트', 'cortarNo': '1168010300', 'realEstateTypeCode': 'APT', 'realEstateTypeName': '아파트', 'detailAddress': '1165', 'latitude': 37.474059, 'longitude': 127.053694, 'totalHouseholdCount': 14, 'totalBuildingCount': 1, 'highFloor': 7, 'lowFloor': 7, 'useApproveYmd': '19971224', 'dealCount': 0, 'leaseCount': 0, 'rentCount': 0, 'shortTermRentCount': 0, 'cortarAddress': '서울시 강남구 개포동'}]}\n",
      "====================================================================================================\n",
      "article :\n",
      " {'isMoreData': False, 'articleList': [{'articleNo': '2201077766', 'articleName': 'LG개포자이', 'articleStatus': 'R0', 'realEstateTypeCode': 'APT', 'realEstateTypeName': '아파트', 'articleRealEstateTypeCode': 'A01', 'articleRealEstateTypeName': '아파트', 'tradeTypeCode': 'A1', 'tradeTypeName': '매매', 'verificationTypeCode': 'OWNER', 'floorInfo': '중/22', 'priceChangeState': 'SAME', 'isPriceModification': False, 'dealOrWarrantPrc': '35억', 'areaName': '204B', 'area1': 204, 'area2': 168, 'direction': '남동향', 'articleConfirmYmd': '20220110', 'siteImageCount': 0, 'articleFeatureDesc': '인기좋은로얄동 전망최고좋음 입주매매', 'tagList': ['25년이내', '역세권', '대형평수', '방네개이상'], 'buildingName': '102동', 'sameAddrCnt': 2, 'sameAddrDirectCnt': 0, 'sameAddrMaxPrc': '35억', 'sameAddrMinPrc': '35억', 'cpid': 'bizmk', 'cpName': '매경부동산', 'cpPcArticleUrl': 'http://land.mk.co.kr/rd/rd.php?UID=2201077766', 'cpPcArticleBridgeUrl': '', 'cpPcArticleLinkUseAtArticleTitleYn': False, 'cpPcArticleLinkUseAtCpNameYn': True, 'cpMobileArticleUrl': '', 'cpMobileArticleLinkUseAtArticleTitleYn': False, 'cpMobileArticleLinkUseAtCpNameYn': False, 'latitude': '37.496425', 'longitude': '127.076742', 'isLocationShow': False, 'realtorName': '석탑공인중개사사무소', 'realtorId': 'dhk4500', 'tradeCheckedByOwner': False, 'isDirectTrade': False, 'isInterest': False, 'isComplex': True, 'detailAddress': '', 'detailAddressYn': 'N'}, {'articleNo': '2200538563', 'articleName': 'LG개포자이', 'articleStatus': 'R0', 'realEstateTypeCode': 'APT', 'realEstateTypeName': '아파트', 'articleRealEstateTypeCode': 'A01', 'articleRealEstateTypeName': '아파트', 'tradeTypeCode': 'A1', 'tradeTypeName': '매매', 'verificationTypeCode': 'OWNER', 'floorInfo': '중/22', 'priceChangeState': 'SAME', 'isPriceModification': False, 'dealOrWarrantPrc': '30억', 'areaName': '160', 'area1': 160, 'area2': 134, 'direction': '동향', 'articleConfirmYmd': '20220106', 'siteImageCount': 0, 'articleFeatureDesc': '48, 103동 중층의 탁월한 조망권 ㅣ 일부수리', 'tagList': ['25년이내', '역세권', '대형평수', '방네개이상'], 'buildingName': '103동', 'sameAddrCnt': 1, 'sameAddrDirectCnt': 0, 'sameAddrMaxPrc': '30억', 'sameAddrMinPrc': '30억', 'cpid': 'NEONET', 'cpName': '부동산뱅크', 'cpPcArticleUrl': 'http://www.neonet.co.kr/rd/rd.php?UID=2200538563', 'cpPcArticleBridgeUrl': '', 'cpPcArticleLinkUseAtArticleTitleYn': False, 'cpPcArticleLinkUseAtCpNameYn': True, 'cpMobileArticleUrl': '', 'cpMobileArticleLinkUseAtArticleTitleYn': False, 'cpMobileArticleLinkUseAtCpNameYn': False, 'latitude': '37.496165', 'longitude': '127.076892', 'isLocationShow': False, 'realtorName': '이재공인중개사', 'realtorId': 'ejae88', 'tradeCheckedByOwner': False, 'isDirectTrade': False, 'isInterest': False, 'isComplex': True, 'detailAddress': '', 'detailAddressYn': 'N'}, {'articleNo': '2200540267', 'articleName': 'LG개포자이', 'articleStatus': 'R0', 'realEstateTypeCode': 'APT', 'realEstateTypeName': '아파트', 'articleRealEstateTypeCode': 'A01', 'articleRealEstateTypeName': '아파트', 'tradeTypeCode': 'A1', 'tradeTypeName': '매매', 'verificationTypeCode': 'OWNER', 'floorInfo': '고/21', 'priceChangeState': 'SAME', 'isPriceModification': False, 'dealOrWarrantPrc': '32억', 'areaName': '160', 'area1': 160, 'area2': 134, 'direction': '동향', 'articleConfirmYmd': '20220106', 'siteImageCount': 0, 'articleFeatureDesc': '48 귀한 매물 l 입주가능 l 올수리입니다.', 'tagList': ['25년이내', '올수리', '역세권', '대형평수'], 'buildingName': '104동', 'sameAddrCnt': 1, 'sameAddrDirectCnt': 0, 'sameAddrMaxPrc': '32억', 'sameAddrMinPrc': '32억', 'cpid': 'NEONET', 'cpName': '부동산뱅크', 'cpPcArticleUrl': 'http://www.neonet.co.kr/rd/rd.php?UID=2200540267', 'cpPcArticleBridgeUrl': '', 'cpPcArticleLinkUseAtArticleTitleYn': False, 'cpPcArticleLinkUseAtCpNameYn': True, 'cpMobileArticleUrl': '', 'cpMobileArticleLinkUseAtArticleTitleYn': False, 'cpMobileArticleLinkUseAtCpNameYn': False, 'latitude': '37.495872', 'longitude': '127.076274', 'isLocationShow': False, 'realtorName': '이재공인중개사', 'realtorId': 'ejae88', 'tradeCheckedByOwner': False, 'isDirectTrade': False, 'isInterest': False, 'isComplex': True, 'detailAddress': '', 'detailAddressYn': 'N'}, {'articleNo': '2200995906', 'articleName': 'LG개포자이', 'articleStatus': 'R0', 'realEstateTypeCode': 'APT', 'realEstateTypeName': '아파트', 'articleRealEstateTypeCode': 'A01', 'articleRealEstateTypeName': '아파트', 'tradeTypeCode': 'A1', 'tradeTypeName': '매매', 'verificationTypeCode': 'DOC', 'floorInfo': '저/22', 'priceChangeState': 'SAME', 'isPriceModification': False, 'dealOrWarrantPrc': '35억', 'areaName': '204B', 'area1': 204, 'area2': 168, 'direction': '남동향', 'articleConfirmYmd': '20220110', 'siteImageCount': 0, 'tagList': ['25년이내', '역세권', '대형평수', '방네개이상'], 'buildingName': '101동', 'sameAddrCnt': 1, 'sameAddrDirectCnt': 0, 'sameAddrMaxPrc': '35억', 'sameAddrMinPrc': '35억', 'cpid': 'SERVE', 'cpName': '부동산써브', 'cpPcArticleUrl': 'http://www.serve.co.kr/naver/rd.asp?UID=2200995906', 'cpPcArticleBridgeUrl': '', 'cpPcArticleLinkUseAtArticleTitleYn': False, 'cpPcArticleLinkUseAtCpNameYn': True, 'cpMobileArticleUrl': 'http://m.serve.co.kr/naver/rd.asp?UID=2200995906', 'cpMobileArticleLinkUseAtArticleTitleYn': False, 'cpMobileArticleLinkUseAtCpNameYn': True, 'latitude': '37.496222', 'longitude': '127.076123', 'isLocationShow': False, 'realtorName': '현대디에이치자이공인중개사사무소', 'realtorId': 'smile11622', 'tradeCheckedByOwner': False, 'isDirectTrade': False, 'isInterest': False, 'isComplex': True, 'detailAddress': '', 'detailAddressYn': 'N'}, {'articleNo': '2200751999', 'articleName': 'LG개포자이', 'articleStatus': 'R0', 'realEstateTypeCode': 'APT', 'realEstateTypeName': '아파트', 'articleRealEstateTypeCode': 'A01', 'articleRealEstateTypeName': '아파트', 'tradeTypeCode': 'A1', 'tradeTypeName': '매매', 'verificationTypeCode': 'DOC', 'floorInfo': '중/22', 'priceChangeState': 'SAME', 'isPriceModification': False, 'dealOrWarrantPrc': '35억', 'areaName': '204B', 'area1': 204, 'area2': 168, 'direction': '남동향', 'articleConfirmYmd': '20220107', 'siteImageCount': 0, 'tagList': ['25년이내', '역세권', '대형평수', '방네개이상'], 'buildingName': '102동', 'sameAddrCnt': 2, 'sameAddrDirectCnt': 0, 'sameAddrMaxPrc': '35억', 'sameAddrMinPrc': '35억', 'cpid': 'bizmk', 'cpName': '매경부동산', 'cpPcArticleUrl': 'http://land.mk.co.kr/rd/rd.php?UID=2200751999', 'cpPcArticleBridgeUrl': '', 'cpPcArticleLinkUseAtArticleTitleYn': False, 'cpPcArticleLinkUseAtCpNameYn': True, 'cpMobileArticleUrl': '', 'cpMobileArticleLinkUseAtArticleTitleYn': False, 'cpMobileArticleLinkUseAtCpNameYn': False, 'latitude': '37.496425', 'longitude': '127.076742', 'isLocationShow': False, 'realtorName': '로얄공인중개사사무소', 'realtorId': '4590300', 'tradeCheckedByOwner': False, 'isDirectTrade': False, 'isInterest': False, 'isComplex': True, 'detailAddress': '', 'detailAddressYn': 'N'}, {'articleNo': '2200397233', 'articleName': 'LG개포자이', 'articleStatus': 'R0', 'realEstateTypeCode': 'APT', 'realEstateTypeName': '아파트', 'articleRealEstateTypeCode': 'A01', 'articleRealEstateTypeName': '아파트', 'tradeTypeCode': 'A1', 'tradeTypeName': '매매', 'verificationTypeCode': 'DOC', 'floorInfo': '중/21', 'priceChangeState': 'SAME', 'isPriceModification': False, 'dealOrWarrantPrc': '28억', 'areaName': '160', 'area1': 160, 'area2': 134, 'direction': '남동향', 'articleConfirmYmd': '20220105', 'siteImageCount': 0, 'tagList': ['25년이내', '역세권', '대형평수', '방네개이상'], 'buildingName': '104동', 'sameAddrCnt': 2, 'sameAddrDirectCnt': 0, 'sameAddrMaxPrc': '28억', 'sameAddrMinPrc': '28억', 'cpid': 'bizmk', 'cpName': '매경부동산', 'cpPcArticleUrl': 'http://land.mk.co.kr/rd/rd.php?UID=2200397233', 'cpPcArticleBridgeUrl': '', 'cpPcArticleLinkUseAtArticleTitleYn': False, 'cpPcArticleLinkUseAtCpNameYn': True, 'cpMobileArticleUrl': '', 'cpMobileArticleLinkUseAtArticleTitleYn': False, 'cpMobileArticleLinkUseAtCpNameYn': False, 'latitude': '37.495872', 'longitude': '127.076274', 'isLocationShow': False, 'realtorName': '로얄공인중개사사무소', 'realtorId': '4590300', 'tradeCheckedByOwner': False, 'isDirectTrade': False, 'isInterest': False, 'isComplex': True, 'detailAddress': '', 'detailAddressYn': 'N'}, {'articleNo': '2200344052', 'articleName': 'LG개포자이', 'articleStatus': 'R0', 'realEstateTypeCode': 'APT', 'realEstateTypeName': '아파트', 'articleRealEstateTypeCode': 'A01', 'articleRealEstateTypeName': '아파트', 'tradeTypeCode': 'A1', 'tradeTypeName': '매매', 'verificationTypeCode': 'DOC', 'floorInfo': '중/22', 'priceChangeState': 'SAME', 'isPriceModification': False, 'dealOrWarrantPrc': '35억', 'areaName': '201A', 'area1': 201, 'area2': 170, 'direction': '남향', 'articleConfirmYmd': '20220104', 'siteImageCount': 0, 'articleFeatureDesc': '초등학교와 공원을 인접하고있어요', 'tagList': ['25년이내', '역세권', '대형평수', '방네개이상'], 'buildingName': '102동', 'sameAddrCnt': 1, 'sameAddrDirectCnt': 0, 'sameAddrMaxPrc': '35억', 'sameAddrMinPrc': '35억', 'cpid': 'bizmk', 'cpName': '매경부동산', 'cpPcArticleUrl': 'http://land.mk.co.kr/rd/rd.php?UID=2200344052', 'cpPcArticleBridgeUrl': '', 'cpPcArticleLinkUseAtArticleTitleYn': False, 'cpPcArticleLinkUseAtCpNameYn': True, 'cpMobileArticleUrl': '', 'cpMobileArticleLinkUseAtArticleTitleYn': False, 'cpMobileArticleLinkUseAtCpNameYn': False, 'latitude': '37.496425', 'longitude': '127.076742', 'isLocationShow': False, 'realtorName': '르엘부동산공인중개사사무소', 'tradeCheckedByOwner': False, 'isDirectTrade': False, 'isInterest': False, 'isComplex': True, 'detailAddress': '', 'detailAddressYn': 'N'}, {'articleNo': '2134209874', 'articleName': 'LG개포자이', 'articleStatus': 'R0', 'realEstateTypeCode': 'APT', 'realEstateTypeName': '아파트', 'articleRealEstateTypeCode': 'A01', 'articleRealEstateTypeName': '아파트', 'tradeTypeCode': 'A1', 'tradeTypeName': '매매', 'verificationTypeCode': 'DOC', 'floorInfo': '중/21', 'priceChangeState': 'SAME', 'isPriceModification': False, 'dealOrWarrantPrc': '28억', 'areaName': '160', 'area1': 160, 'area2': 134, 'direction': '남동향', 'articleConfirmYmd': '20211223', 'siteImageCount': 0, 'articleFeatureDesc': '정원 뷰가 좋아ㅣ 아늑한집 굿', 'tagList': ['25년이내', '마당', '역세권', '대형평수'], 'buildingName': '104동', 'sameAddrCnt': 2, 'sameAddrDirectCnt': 0, 'sameAddrMaxPrc': '28억', 'sameAddrMinPrc': '28억', 'cpid': 'SERVE', 'cpName': '부동산써브', 'cpPcArticleUrl': 'http://www.serve.co.kr/naver/rd.asp?UID=2134209874', 'cpPcArticleBridgeUrl': '', 'cpPcArticleLinkUseAtArticleTitleYn': False, 'cpPcArticleLinkUseAtCpNameYn': True, 'cpMobileArticleUrl': 'http://m.serve.co.kr/naver/rd.asp?UID=2134209874', 'cpMobileArticleLinkUseAtArticleTitleYn': False, 'cpMobileArticleLinkUseAtCpNameYn': True, 'latitude': '37.495872', 'longitude': '127.076274', 'isLocationShow': False, 'realtorName': '한미공인중개사 사무소', 'realtorId': 'f4598000', 'tradeCheckedByOwner': False, 'isDirectTrade': False, 'isInterest': False, 'isComplex': True, 'detailAddress': '', 'detailAddressYn': 'N'}], 'mapExposedCount': 0, 'nonMapExposedIncluded': False}\n",
      "====================================================================================================\n",
      "article info :\n",
      " {'articleDetail': {'articleNo': '2201077766', 'articleName': 'LG개포자이 102동', 'articleSubName': '', 'cpId': 'bizmk', 'cortarNo': '1168010300', 'hscpNo': '8928', 'ptpNo': '4', 'ptpName': '204B', 'tradeBuildingTypeCode': 'APT', 'exposeStartYMD': '20220110', 'exposeEndYMD': '20220209', 'buildNo': '729567', 'articleConfirmYMD': '20220110', 'tradeCompleteYN': 'N', 'aptName': 'LG개포자이', 'aptHeatMethodTypeName': '지역난방', 'aptHeatFuelTypeName': '열병합', 'aptParkingCount': '502', 'aptParkingCountPerHousehold': '2.36', 'aptHouseholdCount': '212', 'aptConstructionCompanyName': 'LG건설(주)', 'aptUseApproveYmd': '20040617', 'isaleDealRestrictionCode': 'N', 'totalDongCount': 4, 'articleStatusCode': 'R0', 'articleTypeCode': 'A01', 'realestateTypeCode': 'APT', 'realestateTypeName': '아파트', 'tradeTypeCode': 'A1', 'tradeTypeName': '매매', 'verificationTypeCode': 'OWNER', 'verificationTypeName': '집주인', 'applyYN': 'N', 'directTradeYN': 'N', 'mapLocationIndicationYn': 'Y', 'latitude': '37.496425', 'longitude': '127.076742', 'cityNo': '1100000000', 'cityName': '서울시', 'divisionName': '강남구', 'sectionName': '개포동', 'householdCountByPtp': '42', 'realtorId': 'dhk4500', 'walkingTimeToNearSubway': 8, 'grandPlanList': [{'imageId': '8928@20110421002655090203', 'imageOrder': 3, 'imageSrc': '/20120125_92/land_system_1327420014429O8c34_JPEG/116_8928_4_204B_GA1_1302761134577.jpg', 'imageType': '4'}], 'maintenanceCost': {'costsByDate': [{'basisYearMonth': '202110', 'totalPrice': '536958', 'commonPrice': '368969', 'heatPrice': '18857', 'etcPrice': '118909'}, {'basisYearMonth': '202109', 'totalPrice': '519840', 'commonPrice': '373072', 'heatPrice': '146', 'etcPrice': '116398'}, {'basisYearMonth': '202108', 'totalPrice': '541711', 'commonPrice': '346629', 'heatPrice': '0', 'etcPrice': '164858'}, {'basisYearMonth': '202107', 'totalPrice': '634359', 'commonPrice': '384323', 'heatPrice': '0', 'etcPrice': '219812'}, {'basisYearMonth': '202106', 'totalPrice': '525966', 'commonPrice': '371781', 'heatPrice': '0', 'etcPrice': '123961'}, {'basisYearMonth': '202105', 'totalPrice': '524833', 'commonPrice': '367771', 'heatPrice': '5596', 'etcPrice': '121241'}, {'basisYearMonth': '202104', 'totalPrice': '528221', 'commonPrice': '357100', 'heatPrice': '20132', 'etcPrice': '120765'}, {'basisYearMonth': '202103', 'totalPrice': '588155', 'commonPrice': '369648', 'heatPrice': '61792', 'etcPrice': '132552'}, {'basisYearMonth': '202102', 'totalPrice': '629639', 'commonPrice': '388797', 'heatPrice': '102725', 'etcPrice': '113955'}, {'basisYearMonth': '202101', 'totalPrice': '710169', 'commonPrice': '384395', 'heatPrice': '153707', 'etcPrice': '147904'}, {'basisYearMonth': '202012', 'totalPrice': '675117', 'commonPrice': '380134', 'heatPrice': '126096', 'etcPrice': '144726'}], 'averageTotalPrice': '583179', 'summerTotalPrice': '567345', 'winterTotalPrice': '671642', 'averageCommonPrice': '372056', 'summerCommonPrice': '367578', 'winterCommonPrice': '384442', 'averageHeatPrice': '44459', 'summerHeatPrice': '0', 'winterHeatPrice': '127509', 'averageEtcPrice': '138644', 'summerEtcPrice': '169544', 'winterEtcPrice': '135528'}, 'detailAddress': '', 'exposureAddress': '서울시 강남구 개포동', 'roomCount': '4', 'bathroomCount': '2', 'moveInTypeCode': 'MV001', 'moveInTypeName': '즉시입주', 'moveInDiscussionPossibleYN': '협의가능', 'moveInPossibleYmd': 'NOW', 'monthlyManagementCost': 250000, 'monthlyManagementCostIncludeItemName': '전기세, 가스, 수도, TV', 'originBuildingName': '102', 'buildingName': '102동', 'articleFeatureDescription': '인기좋은로얄동 전망최고좋음 입주매매', 'parkingCount': 0, 'parkingPossibleYN': 'N', 'duplexYN': 'N', 'floorLayerName': '단층', 'hasBuildingUnitInfo': False, 'lawUsage': '공동주택', 'tagList': ['25년이내', '역세권', '대형평수', '방네개이상'], 'isInterest': False, 'isFalseHoodDeclared': False, 'isBlockFalseHood': False, 'detailAddressYn': 'N', 'isComplex': False, 'isOwnerTradeCompleted': False}, 'articleAddition': {'articleNo': '2201077766', 'articleName': 'LG개포자이', 'articleStatus': 'R0', 'realEstateTypeCode': 'APT', 'realEstateTypeName': '아파트', 'articleRealEstateTypeCode': 'A01', 'articleRealEstateTypeName': '아파트', 'tradeTypeCode': 'A1', 'tradeTypeName': '매매', 'verificationTypeCode': 'OWNER', 'floorInfo': '중/22', 'priceChangeState': 'SAME', 'isPriceModification': False, 'dealOrWarrantPrc': '35억', 'areaName': '204B', 'area1': 204, 'area2': 168, 'direction': '남동향', 'articleConfirmYmd': '20220110', 'siteImageCount': 0, 'articleFeatureDesc': '인기좋은로얄동 전망최고좋음 입주매매', 'tagList': ['25년이내', '역세권', '대형평수', '방네개이상'], 'buildingName': '102동', 'sameAddrCnt': 2, 'sameAddrDirectCnt': 0, 'sameAddrMaxPrc': '35억', 'sameAddrMinPrc': '35억', 'cpid': 'bizmk', 'cpName': '매경부동산', 'cpPcArticleUrl': 'http://land.mk.co.kr/rd/rd.php?UID=2201077766', 'cpPcArticleBridgeUrl': '', 'cpPcArticleLinkUseAtArticleTitleYn': False, 'cpPcArticleLinkUseAtCpNameYn': True, 'cpMobileArticleUrl': '', 'cpMobileArticleLinkUseAtArticleTitleYn': False, 'cpMobileArticleLinkUseAtCpNameYn': False, 'latitude': '37.496425', 'longitude': '127.076742', 'isLocationShow': False, 'realtorName': '석탑공인중개사사무소', 'realtorId': 'dhk4500', 'tradeCheckedByOwner': False, 'isDirectTrade': False, 'isInterest': False, 'isComplex': True}, 'articleFacility': {'directionTypeCode': 'ES', 'directionTypeName': '남동향', 'directionBaseTypeCode': 'LVRM', 'directionBaseTypeName': '거실 기준', 'entranceTypeCode': '10', 'entranceTypeName': '계단식', 'floorAreaRatio': '-', 'buildingCoverageRatio': '-'}, 'articleFloor': {'totalFloorCount': '22', 'undergroundFloorCount': '-', 'uppergroundFloorCount': '-', 'floorTypeCode': '20', 'floorInputMethodCode': '20', 'correspondingFloorCount': '중'}, 'articleNoneHscp': {}, 'articlePrice': {'rentPrice': 0, 'dealPrice': 350000, 'warrantPrice': 0, 'allWarrantPrice': 0, 'financeTypeCode': '00', 'financePrice': 0, 'premiumPrice': 0, 'isalePrice': 0, 'allRentPrice': 0, 'priceBySpace': 5657.0, 'bondPrice': 0, 'middlePayment': 0}, 'articleRealtor': {'realtorId': 'dhk4500', 'realtorName': '석탑공인중개사사무소', 'representativeName': '김동한', 'address': '서울 강남구 개포동12-4 석탑프라자 1층 103호', 'establishRegistrationNo': '11680-2021-00410', 'dealCount': 13, 'leaseCount': 18, 'rentCount': 6, 'shortTermRentCount': 0, 'profileImageUrl': '/20170608_125/rltr_profile_1496900133191uuqAb_JPEG/dhk4500_cropImage.jpg', 'profileFullImageUrl': '/20140619_147/rltr_profile_1403141577460oBF5Y_JPEG/1403141577246_%C7%C1%B7%CE%C7%CA1_copy.jpg', 'tradeCompleteCount': 0, 'ownerArticleCount': 51, 'badgeType': 'noBadge', 'latitude': 37.492644, 'longitude': 127.075941, 'representativeTelNo': '02-2226-4500', 'cellPhoneNo': '010-6360-4900', 'isCellPhoneExposure': True, 'isRepresentativeTelExposure': True, 'cortarNo': '1168010300', 'exposeTelTypeCode': 'ALL'}, 'articleSpace': {'supplySpace': 204.52, 'exclusiveSpace': 168.42, 'groundSpace': 0.0, 'totalSpace': 0.0, 'buildingSpace': 0.0, 'expectSpace': 0.0, 'groundShareSpace': 0.0, 'exclusiveRate': '82'}, 'articleTax': {'acquisitionTax': 105000000, 'registTax': 0.0, 'registFee': 203.0, 'brokerFee': 24500000.0, 'maxBrokerFee': 0.7, 'eduTax': 10500000, 'specialTax': 7000000, 'registApplyFee': 0, 'digitalRevenuStamp': 0.0, 'nationHouseBond': 0.0, 'totalPrice': 122500000}, 'articleExistTabs': ['detail', 'prices', 'buildingLandprice', 'schools'], 'articlePhotos': [], 'articleBuildingRegister': {'mgmBldrgstPk': '11680-2399', 'regstrGbCdNm': '집합', 'regstrKindCdNm': '표제부', 'platPlc': '서울특별시 강남구 개포동 12-2번지', 'newPlatPlc': '서울특별시 강남구 개포로109길 69', 'bldNm': '엘지개포자이', 'bylotCnt': 0, 'dongNm': '상가동', 'mainAtchGbCdNm': '주건축물', 'platArea': 0.0, 'archArea': 159.2, 'bcRat': 0.0, 'totArea': 159.2, 'vlRatEstmTotArea': 159.2, 'vlRat': 0.0, 'strctCdNm': '철근콘크리트구조', 'mainPurpsCdNm': '제1종근린생활시설', 'hhldCnt': 0, 'fmlyCnt': 0, 'allHoCnt': 0, 'generationUnit': '세대', 'grndFlrCnt': 1, 'ugrndFlrCnt': 0, 'rideUseElvtCnt': 0, 'emgenUseElvtCnt': 0, 'totalElvtCnt': 0, 'elvtInfo': '', 'atchBldCnt': 0, 'totDongTotArea': 159.2, 'indrMechUtcnt': 0, 'oudrMechUtcnt': 0, 'indrAutoUtcnt': 0, 'oudrAutoUtcnt': 0, 'etcParkInfo': '', 'totalParkingCnt': 0, 'useAprDay': '2004.06', 'engrRat': 0.0, 'engrEpi': 0, 'gnBldCert': 0, 'itgBldCert': 0, 'bldX': 962647.43844, 'bldY': 1944181.79814, 'jiyukNm': '일반주거지역', 'jiyukNmLink': 'https://terms.naver.com/entry.naver?docId=6411536&cid=42094&categoryId=42094', 'jiyukCount': 1, 'jiguNmLink': '', 'jiguCount': 0, 'guyukNm': '제2종지구단위계획구역', 'guyukNmLink': 'https://terms.naver.com/entry.naver?docId=1827341&cid=42154&categoryId=42154', 'guyukCount': 1, 'naid': '1168041660400100006900000', 'pnu': '1168010300100120002', 'bsource': '020100', 'serviceYn': 'Y', 'hoCnt': 4, 'exposureBldName': False}, 'landPrice': {'hscpNo': '8928', 'hscpType': 'A01', 'hscpNm': 'LG개포자이', 'bildNo': '729567', 'dongNm': '102', 'hoNm': '1302', 'hoFloor': '0', 'lineNo': '2', 'pilotiYn': '', 'existHo': '', 'price': '1794000000', 'prevPrice': '1590000000', 'ptpNo': '4', 'supplyArea': '204.52', 'totalArea': '204.52', 'stdYear': 2021, 'stdYmd': 20210101, 'landPriceTax': {'propertyTotalTax': 5917680, 'propertyTax': 3675600, 'localEduTax': 735120, 'cityAreaTax': 1506960, 'realEstateTotalTax': 6183936, 'decisionTax': 5153280, 'ruralSpecialTax': 1030656}}}\n"
     ]
    }
   ],
   "source": [
    "guList = naverLand.GuListProvider().get_regionList()\n",
    "print('='*100)\n",
    "print(f'GuList :\\n {guList}')\n",
    "\n",
    "gangnamgu = guList['regionList'][0]['cortarNo']\n",
    "dongList = naverLand.DongListProvider().get_regionList(gangnamgu)\n",
    "print('='*100)\n",
    "print(f'dongList :\\n {dongList}')\n",
    "\n",
    "gaepodong = dongList['regionList'][0]['cortarNo']\n",
    "\n",
    "complexList = naverLand.ComplexListProvider().get_complexList(gaepodong)\n",
    "print('='*100)\n",
    "print(f'complexList :\\n {complexList}')\n",
    "\n",
    "lg_apt = complexList['complexList'][0]['complexNo']\n",
    "article = naverLand.ArticleListProvider().get_articleList(lg_apt, 'A1')\n",
    "print('='*100)\n",
    "print(f'article :\\n {article}')\n",
    "articleNo = article['articleList'][0]['articleNo']\n",
    "\n",
    "article_1_info = naverLand.ArticleInfoProvider().get_articleInfo(articleNo)\n",
    "print('='*100)\n",
    "print(f'article info :\\n {article_1_info}')"
   ]
  },
  {
   "cell_type": "code",
   "execution_count": 15,
   "metadata": {},
   "outputs": [
    {
     "data": {
      "text/html": [
       "<div>\n",
       "<style scoped>\n",
       "    .dataframe tbody tr th:only-of-type {\n",
       "        vertical-align: middle;\n",
       "    }\n",
       "\n",
       "    .dataframe tbody tr th {\n",
       "        vertical-align: top;\n",
       "    }\n",
       "\n",
       "    .dataframe thead th {\n",
       "        text-align: right;\n",
       "    }\n",
       "</style>\n",
       "<table border=\"1\" class=\"dataframe\">\n",
       "  <thead>\n",
       "    <tr style=\"text-align: right;\">\n",
       "      <th></th>\n",
       "      <th>detailAddress</th>\n",
       "      <th>detailAddressYn</th>\n",
       "    </tr>\n",
       "  </thead>\n",
       "  <tbody>\n",
       "    <tr>\n",
       "      <th>0</th>\n",
       "      <td></td>\n",
       "      <td>N</td>\n",
       "    </tr>\n",
       "    <tr>\n",
       "      <th>1</th>\n",
       "      <td></td>\n",
       "      <td>N</td>\n",
       "    </tr>\n",
       "    <tr>\n",
       "      <th>2</th>\n",
       "      <td></td>\n",
       "      <td>N</td>\n",
       "    </tr>\n",
       "    <tr>\n",
       "      <th>3</th>\n",
       "      <td></td>\n",
       "      <td>N</td>\n",
       "    </tr>\n",
       "    <tr>\n",
       "      <th>4</th>\n",
       "      <td></td>\n",
       "      <td>N</td>\n",
       "    </tr>\n",
       "    <tr>\n",
       "      <th>5</th>\n",
       "      <td></td>\n",
       "      <td>N</td>\n",
       "    </tr>\n",
       "    <tr>\n",
       "      <th>6</th>\n",
       "      <td></td>\n",
       "      <td>N</td>\n",
       "    </tr>\n",
       "    <tr>\n",
       "      <th>7</th>\n",
       "      <td></td>\n",
       "      <td>N</td>\n",
       "    </tr>\n",
       "  </tbody>\n",
       "</table>\n",
       "</div>"
      ],
      "text/plain": [
       "  detailAddress detailAddressYn\n",
       "0                             N\n",
       "1                             N\n",
       "2                             N\n",
       "3                             N\n",
       "4                             N\n",
       "5                             N\n",
       "6                             N\n",
       "7                             N"
      ]
     },
     "execution_count": 15,
     "metadata": {},
     "output_type": "execute_result"
    }
   ],
   "source": [
    "pd.DataFrame(article['articleList']).iloc[:, 45:50]"
   ]
  },
  {
   "cell_type": "code",
   "execution_count": 37,
   "metadata": {},
   "outputs": [
    {
     "data": {
      "text/plain": [
       "['25년이내', '역세권', '대형평수', '방네개이상']"
      ]
     },
     "execution_count": 37,
     "metadata": {},
     "output_type": "execute_result"
    }
   ],
   "source": [
    "keys = list(article_1_info.keys())\n",
    "data = article_1_info[keys[0]]['tagList']\n",
    "data"
   ]
  },
  {
   "cell_type": "code",
   "execution_count": 41,
   "metadata": {},
   "outputs": [
    {
     "data": {
      "text/plain": [
       "{'articleNo': '2135015981',\n",
       " 'articleName': '역삼트레벨 1동',\n",
       " 'articleSubName': '',\n",
       " 'cpId': 'bizmk',\n",
       " 'cortarNo': '1168010100',\n",
       " 'hscpNo': '10294',\n",
       " 'ptpNo': '1',\n",
       " 'ptpName': '33',\n",
       " 'tradeBuildingTypeCode': 'APT',\n",
       " 'exposeStartYMD': '20211231',\n",
       " 'exposeEndYMD': '20220130',\n",
       " 'buildNo': '2',\n",
       " 'articleConfirmYMD': '20211231',\n",
       " 'tradeCompleteYN': 'N',\n",
       " 'aptName': '역삼트레벨',\n",
       " 'aptHeatMethodTypeName': '개별난방',\n",
       " 'aptHeatFuelTypeName': '도시가스',\n",
       " 'aptParkingCount': '34',\n",
       " 'aptParkingCountPerHousehold': '0.75',\n",
       " 'aptHouseholdCount': '45',\n",
       " 'aptConstructionCompanyName': '(주)엑스인도시개발',\n",
       " 'aptUseApproveYmd': '20020418',\n",
       " 'isaleDealRestrictionCode': 'N',\n",
       " 'totalDongCount': 1,\n",
       " 'articleStatusCode': 'R0',\n",
       " 'articleTypeCode': 'A01',\n",
       " 'realestateTypeCode': 'APT',\n",
       " 'realestateTypeName': '아파트',\n",
       " 'tradeTypeCode': 'A1',\n",
       " 'tradeTypeName': '매매',\n",
       " 'verificationTypeCode': 'OWNER',\n",
       " 'verificationTypeName': '집주인',\n",
       " 'applyYN': 'N',\n",
       " 'directTradeYN': 'N',\n",
       " 'mapLocationIndicationYn': 'Y',\n",
       " 'latitude': '37.496145',\n",
       " 'longitude': '127.05043',\n",
       " 'cityNo': '1100000000',\n",
       " 'cityName': '서울시',\n",
       " 'divisionName': '강남구',\n",
       " 'sectionName': '역삼동',\n",
       " 'householdCountByPtp': '30',\n",
       " 'realtorId': 'm5625522',\n",
       " 'walkingTimeToNearSubway': 2,\n",
       " 'grandPlanList': [{'imageId': '10294@20110420234904557763',\n",
       "   'imageOrder': 0,\n",
       "   'imageSrc': '/20120124_293/land_system_13274004046382rvsA_JPEG/116_10294_1_46_GA1_1283137229844.jpg',\n",
       "   'imageType': '1'}],\n",
       " 'detailAddress': '',\n",
       " 'exposureAddress': '서울시 강남구 역삼동',\n",
       " 'roomCount': '1',\n",
       " 'bathroomCount': '1',\n",
       " 'moveInTypeCode': 'MV001',\n",
       " 'moveInTypeName': '즉시입주',\n",
       " 'moveInPossibleYmd': 'NOW',\n",
       " 'monthlyManagementCost': 100000,\n",
       " 'monthlyManagementCostIncludeItemName': '전기세, 수도, TV',\n",
       " 'originBuildingName': '1',\n",
       " 'buildingName': '1동',\n",
       " 'articleFeatureDescription': '초역세권. 전세안고 매수',\n",
       " 'detailDescription': 'ㅁㅁ 초역세권\\nㅁㅁ 전세안고 매수',\n",
       " 'parkingCount': 0,\n",
       " 'parkingPossibleYN': 'N',\n",
       " 'duplexYN': 'N',\n",
       " 'floorLayerName': '단층',\n",
       " 'hasBuildingUnitInfo': False,\n",
       " 'lawUsage': '공동주택',\n",
       " 'tagList': ['25년이내', '역세권', '1층', '소형평수'],\n",
       " 'isInterest': False,\n",
       " 'isFalseHoodDeclared': False,\n",
       " 'isBlockFalseHood': False,\n",
       " 'detailAddressYn': 'N',\n",
       " 'isComplex': False,\n",
       " 'isOwnerTradeCompleted': False}"
      ]
     },
     "execution_count": 41,
     "metadata": {},
     "output_type": "execute_result"
    }
   ],
   "source": [
    "article_1_info = naverLand.ArticleInfoProvider().get_articleInfo('2135015981')\n",
    "keys = list(article_1_info.keys())\n",
    "data = article_1_info[keys[0]]\n",
    "data"
   ]
  }
 ],
 "metadata": {
  "interpreter": {
   "hash": "402f732f45210a8f3cf204d18ac474bcfde6f1d7d558ffc6d28a7b91f39123e2"
  },
  "kernelspec": {
   "display_name": "Python 3.8.6 64-bit ('pythonProject': venv)",
   "language": "python",
   "name": "python3"
  },
  "language_info": {
   "codemirror_mode": {
    "name": "ipython",
    "version": 3
   },
   "file_extension": ".py",
   "mimetype": "text/x-python",
   "name": "python",
   "nbconvert_exporter": "python",
   "pygments_lexer": "ipython3",
   "version": "3.8.6"
  },
  "orig_nbformat": 4
 },
 "nbformat": 4,
 "nbformat_minor": 2
}
